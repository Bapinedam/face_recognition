{
 "cells": [
  {
   "cell_type": "markdown",
   "metadata": {},
   "source": [
    "# Face Recognition "
   ]
  },
  {
   "cell_type": "markdown",
   "metadata": {},
   "source": [
    "## OpenCV"
   ]
  },
  {
   "cell_type": "code",
   "execution_count": 1,
   "metadata": {},
   "outputs": [],
   "source": [
    "from PIL import Image\n",
    "import cv2\n",
    "import numpy as np\n",
    "import os\n",
    "import zipfile"
   ]
  },
  {
   "cell_type": "markdown",
   "metadata": {},
   "source": [
    "Let's create the path"
   ]
  },
  {
   "cell_type": "code",
   "execution_count": 2,
   "metadata": {},
   "outputs": [],
   "source": [
    "path = \"../../Computer Vision Masterclass/Datasets/yalefaces.zip\"\n",
    "zip_object = zipfile.ZipFile(file=path, mode = 'r')\n",
    "zip_object.extractall('./')\n",
    "zip_object.close()"
   ]
  },
  {
   "cell_type": "markdown",
   "metadata": {},
   "source": [
    "### Pre-processing the images"
   ]
  },
  {
   "cell_type": "code",
   "execution_count": 3,
   "metadata": {},
   "outputs": [
    {
     "name": "stdout",
     "output_type": "stream",
     "text": [
      "['subject01.glasses.gif', 'subject01.leftlight.gif', 'subject01.noglasses.gif', 'subject01.normal.gif', 'subject01.rightlight.gif', 'subject01.sad.gif', 'subject01.sleepy.gif', 'subject01.surprised.gif', 'subject01.wink.gif', 'subject02.glasses.gif', 'subject02.happy.gif', 'subject02.noglasses.gif', 'subject02.normal.gif', 'subject02.rightlight.gif', 'subject02.sad.gif', 'subject02.sleepy.gif', 'subject02.surprised.gif', 'subject02.wink.gif', 'subject03.centerlight.gif', 'subject03.happy.gif', 'subject03.noglasses.gif', 'subject03.normal.gif', 'subject03.rightlight.gif', 'subject03.sad.gif', 'subject03.sleepy.gif', 'subject03.surprised.gif', 'subject03.wink.gif', 'subject04.centerlight.gif', 'subject04.glasses.gif', 'subject04.happy.gif', 'subject04.noglasses.gif', 'subject04.normal.gif', 'subject04.rightlight.gif', 'subject04.sad.gif', 'subject04.sleepy.gif', 'subject04.wink.gif', 'subject05.centerlight.gif', 'subject05.glasses.gif', 'subject05.happy.gif', 'subject05.leftlight.gif', 'subject05.noglasses.gif', 'subject05.normal.gif', 'subject05.rightlight.gif', 'subject05.sad.gif', 'subject05.wink.gif', 'subject06.centerlight.gif', 'subject06.glasses.gif', 'subject06.noglasses.gif', 'subject06.normal.gif', 'subject06.rightlight.gif', 'subject06.sad.gif', 'subject06.sleepy.gif', 'subject06.surprised.gif', 'subject06.wink.gif', 'subject07.centerlight.gif', 'subject07.glasses.gif', 'subject07.noglasses.gif', 'subject07.normal.gif', 'subject07.rightlight.gif', 'subject07.sad.gif', 'subject07.sleepy.gif', 'subject07.surprised.gif', 'subject07.wink.gif', 'subject08.centerlight.gif', 'subject08.glasses.gif', 'subject08.happy.gif', 'subject08.leftlight.gif', 'subject08.noglasses.gif', 'subject08.sad.gif', 'subject08.sleepy.gif', 'subject08.surprised.gif', 'subject08.wink.gif', 'subject09.centerlight.gif', 'subject09.glasses.gif', 'subject09.happy.gif', 'subject09.leftlight.gif', 'subject09.noglasses.gif', 'subject09.normal.gif', 'subject09.sleepy.gif', 'subject09.surprised.gif', 'subject09.wink.gif', 'subject10.glasses.gif', 'subject10.happy.gif', 'subject10.leftlight.gif', 'subject10.noglasses.gif', 'subject10.normal.gif', 'subject10.rightlight.gif', 'subject10.sleepy.gif', 'subject10.surprised.gif', 'subject10.wink.gif', 'subject11.centerlight.gif', 'subject11.leftlight.gif', 'subject11.noglasses.gif', 'subject11.normal.gif', 'subject11.rightlight.gif', 'subject11.sad.gif', 'subject11.sleepy.gif', 'subject11.surprised.gif', 'subject11.wink.gif', 'subject12.centerlight.gif', 'subject12.glasses.gif', 'subject12.happy.gif', 'subject12.leftlight.gif', 'subject12.noglasses.gif', 'subject12.sad.gif', 'subject12.sleepy.gif', 'subject12.surprised.gif', 'subject12.wink.gif', 'subject13.centerlight.gif', 'subject13.glasses.gif', 'subject13.happy.gif', 'subject13.leftlight.gif', 'subject13.noglasses.gif', 'subject13.normal.gif', 'subject13.rightlight.gif', 'subject13.surprised.gif', 'subject13.wink.gif', 'subject14.centerlight.gif', 'subject14.glasses.gif', 'subject14.happy.gif', 'subject14.leftlight.gif', 'subject14.noglasses.gif', 'subject14.rightlight.gif', 'subject14.sleepy.gif', 'subject14.surprised.gif', 'subject14.wink.gif', 'subject15.centerlight.gif', 'subject15.glasses.gif', 'subject15.happy.gif', 'subject15.leftlight.gif', 'subject15.noglasses.gif', 'subject15.normal.gif', 'subject15.sleepy.gif', 'subject15.surprised.gif', 'subject15.wink.gif']\n"
     ]
    }
   ],
   "source": [
    "print(os.listdir(\"yalefaces/train\"))"
   ]
  },
  {
   "cell_type": "code",
   "execution_count": 4,
   "metadata": {},
   "outputs": [],
   "source": [
    "def get_image_data():\n",
    "  paths = [os.path.join('yalefaces/train', f) for f in os.listdir('yalefaces/train')]\n",
    "  # print(paths)\n",
    "  faces = []\n",
    "  ids = []\n",
    "  for path in paths:\n",
    "    # print(path)\n",
    "    image = Image.open(path).convert('L')\n",
    "    # print(type(image))\n",
    "    image_np = np.array(image, 'uint8')\n",
    "    # print(type(image_np))\n",
    "    id = int(os.path.split(path)[1].split('.')[0].replace('subject', ''))\n",
    "    # print(id)\n",
    "    ids.append(id)\n",
    "    faces.append(image_np)\n",
    "\n",
    "  return np.array(ids), faces"
   ]
  },
  {
   "cell_type": "code",
   "execution_count": 5,
   "metadata": {},
   "outputs": [],
   "source": [
    "ids, faces = get_image_data()"
   ]
  },
  {
   "cell_type": "code",
   "execution_count": 6,
   "metadata": {},
   "outputs": [
    {
     "data": {
      "text/plain": [
       "(array([[130, 130, 130, ..., 255, 255, 255],\n",
       "        [255, 255, 255, ..., 255, 255, 255],\n",
       "        [255, 255, 255, ..., 255, 255, 255],\n",
       "        ...,\n",
       "        [255, 255, 255, ..., 252, 255, 255],\n",
       "        [255, 255, 255, ..., 255, 255, 255],\n",
       "        [ 68,  68,  68, ...,  68,  68,  68]], dtype=uint8),\n",
       " (243, 320))"
      ]
     },
     "execution_count": 6,
     "metadata": {},
     "output_type": "execute_result"
    }
   ],
   "source": [
    "faces[0], faces[0].shape"
   ]
  },
  {
   "cell_type": "markdown",
   "metadata": {},
   "source": [
    "### Training the LBPH classifier"
   ]
  },
  {
   "cell_type": "code",
   "execution_count": 7,
   "metadata": {},
   "outputs": [],
   "source": [
    "lbph_classifier = cv2.face.LBPHFaceRecognizer_create(\n",
    "    radius = 5,\n",
    "    neighbors = 14,\n",
    "    grid_x = 9,grid_y = 9\n",
    ")\n",
    "lbph_classifier.train(faces, ids)\n",
    "lbph_classifier.write('lbph_classifier.yml')"
   ]
  },
  {
   "cell_type": "markdown",
   "metadata": {},
   "source": [
    "## Recognizing faces"
   ]
  },
  {
   "cell_type": "code",
   "execution_count": 8,
   "metadata": {},
   "outputs": [],
   "source": [
    "lbph_face_classifier = cv2.face.LBPHFaceRecognizer_create()\n",
    "lbph_face_classifier.read('lbph_classifier.yml')"
   ]
  },
  {
   "cell_type": "code",
   "execution_count": 9,
   "metadata": {},
   "outputs": [],
   "source": [
    "test_image = 'yalefaces/test/subject10.sad.gif'"
   ]
  },
  {
   "cell_type": "code",
   "execution_count": 10,
   "metadata": {},
   "outputs": [
    {
     "data": {
      "text/plain": [
       "array([[130, 130, 130, ..., 255, 255, 255],\n",
       "       [255, 255, 255, ..., 255, 255, 255],\n",
       "       [255, 255, 255, ..., 255, 255, 255],\n",
       "       ...,\n",
       "       [255, 255, 255, ..., 241, 255, 255],\n",
       "       [255, 255, 255, ..., 234, 237, 252],\n",
       "       [ 68,  68,  68, ...,  68,  68,  68]], dtype=uint8)"
      ]
     },
     "execution_count": 10,
     "metadata": {},
     "output_type": "execute_result"
    }
   ],
   "source": [
    "image = Image.open(test_image).convert('L')\n",
    "image_np = np.array(image, 'uint8')\n",
    "image_np"
   ]
  },
  {
   "cell_type": "code",
   "execution_count": 11,
   "metadata": {},
   "outputs": [
    {
     "data": {
      "text/plain": [
       "(10, 36.85593915136333)"
      ]
     },
     "execution_count": 11,
     "metadata": {},
     "output_type": "execute_result"
    }
   ],
   "source": [
    "prediction = lbph_face_classifier.predict(image_np)\n",
    "prediction"
   ]
  },
  {
   "cell_type": "markdown",
   "metadata": {},
   "source": [
    "The first number is the class. The second value is the confidence"
   ]
  },
  {
   "cell_type": "markdown",
   "metadata": {},
   "source": [
    "## Evaluating the classifier"
   ]
  },
  {
   "cell_type": "code",
   "execution_count": 12,
   "metadata": {},
   "outputs": [],
   "source": [
    "paths = [os.path.join('yalefaces/test', f) for f in os.listdir('yalefaces/test')]\n",
    "predictions = []\n",
    "expected_outputs = []\n",
    "for path in paths:\n",
    "  # print(path)\n",
    "  image = Image.open(path).convert('L')\n",
    "  image_np = np.array(image, 'uint8')\n",
    "  prediction,   _ = lbph_face_classifier.predict(image_np)\n",
    "  expected_output = int( os.path.split(path)[1].split('.')[0].replace('subject', ''))\n",
    "\n",
    "  predictions.append(prediction)\n",
    "  expected_outputs.append(expected_output)"
   ]
  },
  {
   "cell_type": "code",
   "execution_count": 13,
   "metadata": {},
   "outputs": [],
   "source": [
    "predictions = np.array(predictions)\n",
    "expected_outputs = np.array(expected_outputs)"
   ]
  },
  {
   "cell_type": "code",
   "execution_count": 14,
   "metadata": {},
   "outputs": [
    {
     "data": {
      "text/plain": [
       "array([ 4,  1,  4, 12,  3,  9,  5,  4,  5,  5,  6, 14,  7,  9,  8,  4,  7,\n",
       "        9,  4, 10, 11, 11, 12, 12, 13, 13, 14, 14,  7, 15])"
      ]
     },
     "execution_count": 14,
     "metadata": {},
     "output_type": "execute_result"
    }
   ],
   "source": [
    "predictions"
   ]
  },
  {
   "cell_type": "code",
   "execution_count": 15,
   "metadata": {},
   "outputs": [
    {
     "data": {
      "text/plain": [
       "array([ 1,  1,  2,  2,  3,  3,  4,  4,  5,  5,  6,  6,  7,  7,  8,  8,  9,\n",
       "        9, 10, 10, 11, 11, 12, 12, 13, 13, 14, 14, 15, 15])"
      ]
     },
     "execution_count": 15,
     "metadata": {},
     "output_type": "execute_result"
    }
   ],
   "source": [
    "expected_outputs"
   ]
  },
  {
   "cell_type": "code",
   "execution_count": 17,
   "metadata": {},
   "outputs": [
    {
     "data": {
      "text/plain": [
       "0.6333333333333333"
      ]
     },
     "execution_count": 17,
     "metadata": {},
     "output_type": "execute_result"
    }
   ],
   "source": [
    "from sklearn.metrics import accuracy_score\n",
    "\n",
    "accuracy_score(expected_outputs, predictions)"
   ]
  },
  {
   "cell_type": "code",
   "execution_count": 18,
   "metadata": {},
   "outputs": [
    {
     "data": {
      "text/plain": [
       "array([[1, 0, 0, 1, 0, 0, 0, 0, 0, 0, 0, 0, 0, 0, 0],\n",
       "       [0, 0, 0, 1, 0, 0, 0, 0, 0, 0, 0, 1, 0, 0, 0],\n",
       "       [0, 0, 1, 0, 0, 0, 0, 0, 1, 0, 0, 0, 0, 0, 0],\n",
       "       [0, 0, 0, 1, 1, 0, 0, 0, 0, 0, 0, 0, 0, 0, 0],\n",
       "       [0, 0, 0, 0, 2, 0, 0, 0, 0, 0, 0, 0, 0, 0, 0],\n",
       "       [0, 0, 0, 0, 0, 1, 0, 0, 0, 0, 0, 0, 0, 1, 0],\n",
       "       [0, 0, 0, 0, 0, 0, 1, 0, 1, 0, 0, 0, 0, 0, 0],\n",
       "       [0, 0, 0, 1, 0, 0, 0, 1, 0, 0, 0, 0, 0, 0, 0],\n",
       "       [0, 0, 0, 0, 0, 0, 1, 0, 1, 0, 0, 0, 0, 0, 0],\n",
       "       [0, 0, 0, 1, 0, 0, 0, 0, 0, 1, 0, 0, 0, 0, 0],\n",
       "       [0, 0, 0, 0, 0, 0, 0, 0, 0, 0, 2, 0, 0, 0, 0],\n",
       "       [0, 0, 0, 0, 0, 0, 0, 0, 0, 0, 0, 2, 0, 0, 0],\n",
       "       [0, 0, 0, 0, 0, 0, 0, 0, 0, 0, 0, 0, 2, 0, 0],\n",
       "       [0, 0, 0, 0, 0, 0, 0, 0, 0, 0, 0, 0, 0, 2, 0],\n",
       "       [0, 0, 0, 0, 0, 0, 1, 0, 0, 0, 0, 0, 0, 0, 1]], dtype=int64)"
      ]
     },
     "execution_count": 18,
     "metadata": {},
     "output_type": "execute_result"
    }
   ],
   "source": [
    "from sklearn.metrics import confusion_matrix\n",
    "\n",
    "cm = confusion_matrix(expected_outputs, predictions)\n",
    "cm"
   ]
  },
  {
   "cell_type": "code",
   "execution_count": 20,
   "metadata": {},
   "outputs": [
    {
     "data": {
      "image/png": "[encoded data removed]",
      "text/plain": [
       "<Figure size 640x480 with 2 Axes>"
      ]
     },
     "metadata": {},
     "output_type": "display_data"
    }
   ],
   "source": [
    "import seaborn\n",
    "seaborn.heatmap(cm, annot = True);"
   ]
  },
  {
   "cell_type": "markdown",
   "metadata": {},
   "source": [
    "## Dlib"
   ]
  },
  {
   "cell_type": "code",
   "execution_count": 2,
   "metadata": {},
   "outputs": [],
   "source": [
    "import dlib"
   ]
  },
  {
   "cell_type": "code",
   "execution_count": null,
   "metadata": {},
   "outputs": [],
   "source": []
  }
 ],
 "metadata": {
  "kernelspec": {
   "display_name": "face_recognition",
   "language": "python",
   "name": "python3"
  },
  "language_info": {
   "codemirror_mode": {
    "name": "ipython",
    "version": 3
   },
   "file_extension": ".py",
   "mimetype": "text/x-python",
   "name": "python",
   "nbconvert_exporter": "python",
   "pygments_lexer": "ipython3",
   "version": "3.10.13"
  }
 },
 "nbformat": 4,
 "nbformat_minor": 2
}
